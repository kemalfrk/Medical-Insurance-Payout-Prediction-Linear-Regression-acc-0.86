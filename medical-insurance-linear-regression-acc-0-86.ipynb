{
 "cells": [
  {
   "cell_type": "markdown",
   "id": "9da24cc4",
   "metadata": {
    "papermill": {
     "duration": 0.009848,
     "end_time": "2024-08-09T08:38:25.764137",
     "exception": false,
     "start_time": "2024-08-09T08:38:25.754289",
     "status": "completed"
    },
    "tags": []
   },
   "source": [
    "## About the Dataset\n",
    "\n",
    "ACME Insurance Inc. offers affordable health insurance to thousands of customers across the United States. The company has tasked you with creating an automated system to estimate the annual medical expenditures for new customers. This system will utilize information such as age, sex, BMI, number of children, smoking habits, and region of residence to make accurate predictions.\n",
    "\n",
    "These predictions will be used to determine the annual insurance premiums (the amount paid monthly) offered to the customers. Initially, a linear regression model was applied to the data, which provided insightful results for this estimation process.\n",
    "\n",
    "**age:** Age of the customer\n",
    "\n",
    "**sex:** Gender\n",
    "\n",
    "**bmi:** Body Mass Index, an important health factor\n",
    "\n",
    "**children:** number of children\n",
    "\n",
    "**smoker:** whether the customer smokes or not\n",
    "\n",
    "**region:** which region of the country the customer belongs to\n",
    "\n",
    "**charges:** Target variable, the expenditure for the customer"
   ]
  },
  {
   "cell_type": "markdown",
   "id": "eb584f95",
   "metadata": {
    "papermill": {
     "duration": 0.009289,
     "end_time": "2024-08-09T08:38:25.783061",
     "exception": false,
     "start_time": "2024-08-09T08:38:25.773772",
     "status": "completed"
    },
    "tags": []
   },
   "source": [
    "# Importing Necessary Libraries"
   ]
  },
  {
   "cell_type": "code",
   "execution_count": 1,
   "id": "c6db4eb2",
   "metadata": {
    "_cell_guid": "b1076dfc-b9ad-4769-8c92-a6c4dae69d19",
    "_uuid": "8f2839f25d086af736a60e9eeb907d3b93b6e0e5",
    "execution": {
     "iopub.execute_input": "2024-08-09T08:38:25.805705Z",
     "iopub.status.busy": "2024-08-09T08:38:25.804402Z",
     "iopub.status.idle": "2024-08-09T08:38:28.984689Z",
     "shell.execute_reply": "2024-08-09T08:38:28.983454Z"
    },
    "papermill": {
     "duration": 3.195518,
     "end_time": "2024-08-09T08:38:28.988083",
     "exception": false,
     "start_time": "2024-08-09T08:38:25.792565",
     "status": "completed"
    },
    "tags": []
   },
   "outputs": [],
   "source": [
    "import pandas as pd\n",
    "import numpy as np\n",
    "import matplotlib.pyplot as plt\n",
    "from sklearn.model_selection import train_test_split\n",
    "import seaborn as sns\n",
    "\n",
    "from sklearn.preprocessing import OneHotEncoder, MinMaxScaler,StandardScaler\n",
    "from sklearn.linear_model import LinearRegression\n",
    "from sklearn.metrics import mean_squared_error,r2_score\n",
    "\n",
    "from sklearn.model_selection import train_test_split, KFold, cross_val_score"
   ]
  },
  {
   "cell_type": "markdown",
   "id": "38a73bb1",
   "metadata": {
    "papermill": {
     "duration": 0.00919,
     "end_time": "2024-08-09T08:38:29.008229",
     "exception": false,
     "start_time": "2024-08-09T08:38:28.999039",
     "status": "completed"
    },
    "tags": []
   },
   "source": [
    "# Uploading Dataset"
   ]
  },
  {
   "cell_type": "code",
   "execution_count": 2,
   "id": "2017a721",
   "metadata": {
    "execution": {
     "iopub.execute_input": "2024-08-09T08:38:29.029144Z",
     "iopub.status.busy": "2024-08-09T08:38:29.028511Z",
     "iopub.status.idle": "2024-08-09T08:38:29.085869Z",
     "shell.execute_reply": "2024-08-09T08:38:29.084688Z"
    },
    "papermill": {
     "duration": 0.071057,
     "end_time": "2024-08-09T08:38:29.088702",
     "exception": false,
     "start_time": "2024-08-09T08:38:29.017645",
     "status": "completed"
    },
    "tags": []
   },
   "outputs": [
    {
     "data": {
      "text/html": [
       "<div>\n",
       "<style scoped>\n",
       "    .dataframe tbody tr th:only-of-type {\n",
       "        vertical-align: middle;\n",
       "    }\n",
       "\n",
       "    .dataframe tbody tr th {\n",
       "        vertical-align: top;\n",
       "    }\n",
       "\n",
       "    .dataframe thead th {\n",
       "        text-align: right;\n",
       "    }\n",
       "</style>\n",
       "<table border=\"1\" class=\"dataframe\">\n",
       "  <thead>\n",
       "    <tr style=\"text-align: right;\">\n",
       "      <th></th>\n",
       "      <th>age</th>\n",
       "      <th>sex</th>\n",
       "      <th>bmi</th>\n",
       "      <th>children</th>\n",
       "      <th>smoker</th>\n",
       "      <th>region</th>\n",
       "      <th>charges</th>\n",
       "    </tr>\n",
       "  </thead>\n",
       "  <tbody>\n",
       "    <tr>\n",
       "      <th>0</th>\n",
       "      <td>19</td>\n",
       "      <td>female</td>\n",
       "      <td>27.900</td>\n",
       "      <td>0</td>\n",
       "      <td>yes</td>\n",
       "      <td>southwest</td>\n",
       "      <td>16884.92400</td>\n",
       "    </tr>\n",
       "    <tr>\n",
       "      <th>1</th>\n",
       "      <td>18</td>\n",
       "      <td>male</td>\n",
       "      <td>33.770</td>\n",
       "      <td>1</td>\n",
       "      <td>no</td>\n",
       "      <td>southeast</td>\n",
       "      <td>1725.55230</td>\n",
       "    </tr>\n",
       "    <tr>\n",
       "      <th>2</th>\n",
       "      <td>28</td>\n",
       "      <td>male</td>\n",
       "      <td>33.000</td>\n",
       "      <td>3</td>\n",
       "      <td>no</td>\n",
       "      <td>southeast</td>\n",
       "      <td>4449.46200</td>\n",
       "    </tr>\n",
       "    <tr>\n",
       "      <th>3</th>\n",
       "      <td>33</td>\n",
       "      <td>male</td>\n",
       "      <td>22.705</td>\n",
       "      <td>0</td>\n",
       "      <td>no</td>\n",
       "      <td>northwest</td>\n",
       "      <td>21984.47061</td>\n",
       "    </tr>\n",
       "    <tr>\n",
       "      <th>4</th>\n",
       "      <td>32</td>\n",
       "      <td>male</td>\n",
       "      <td>28.880</td>\n",
       "      <td>0</td>\n",
       "      <td>no</td>\n",
       "      <td>northwest</td>\n",
       "      <td>3866.85520</td>\n",
       "    </tr>\n",
       "  </tbody>\n",
       "</table>\n",
       "</div>"
      ],
      "text/plain": [
       "   age     sex     bmi  children smoker     region      charges\n",
       "0   19  female  27.900         0    yes  southwest  16884.92400\n",
       "1   18    male  33.770         1     no  southeast   1725.55230\n",
       "2   28    male  33.000         3     no  southeast   4449.46200\n",
       "3   33    male  22.705         0     no  northwest  21984.47061\n",
       "4   32    male  28.880         0     no  northwest   3866.85520"
      ]
     },
     "execution_count": 2,
     "metadata": {},
     "output_type": "execute_result"
    }
   ],
   "source": [
    "data=pd.read_csv(\"/kaggle/input/medical-insurance-payout/expenses.csv\")\n",
    "data.head()"
   ]
  },
  {
   "cell_type": "markdown",
   "id": "42f71b89",
   "metadata": {
    "papermill": {
     "duration": 0.010083,
     "end_time": "2024-08-09T08:38:29.108697",
     "exception": false,
     "start_time": "2024-08-09T08:38:29.098614",
     "status": "completed"
    },
    "tags": []
   },
   "source": [
    "# EDA"
   ]
  },
  {
   "cell_type": "code",
   "execution_count": 3,
   "id": "a79d7ebc",
   "metadata": {
    "execution": {
     "iopub.execute_input": "2024-08-09T08:38:29.130193Z",
     "iopub.status.busy": "2024-08-09T08:38:29.129771Z",
     "iopub.status.idle": "2024-08-09T08:38:29.156105Z",
     "shell.execute_reply": "2024-08-09T08:38:29.154947Z"
    },
    "papermill": {
     "duration": 0.040295,
     "end_time": "2024-08-09T08:38:29.158853",
     "exception": false,
     "start_time": "2024-08-09T08:38:29.118558",
     "status": "completed"
    },
    "tags": []
   },
   "outputs": [
    {
     "name": "stdout",
     "output_type": "stream",
     "text": [
      "<class 'pandas.core.frame.DataFrame'>\n",
      "RangeIndex: 1338 entries, 0 to 1337\n",
      "Data columns (total 7 columns):\n",
      " #   Column    Non-Null Count  Dtype  \n",
      "---  ------    --------------  -----  \n",
      " 0   age       1338 non-null   int64  \n",
      " 1   sex       1338 non-null   object \n",
      " 2   bmi       1338 non-null   float64\n",
      " 3   children  1338 non-null   int64  \n",
      " 4   smoker    1338 non-null   object \n",
      " 5   region    1338 non-null   object \n",
      " 6   charges   1338 non-null   float64\n",
      "dtypes: float64(2), int64(2), object(3)\n",
      "memory usage: 73.3+ KB\n"
     ]
    }
   ],
   "source": [
    "data.info()"
   ]
  },
  {
   "cell_type": "code",
   "execution_count": 4,
   "id": "85645128",
   "metadata": {
    "execution": {
     "iopub.execute_input": "2024-08-09T08:38:29.181793Z",
     "iopub.status.busy": "2024-08-09T08:38:29.181349Z",
     "iopub.status.idle": "2024-08-09T08:38:29.212510Z",
     "shell.execute_reply": "2024-08-09T08:38:29.211287Z"
    },
    "papermill": {
     "duration": 0.046589,
     "end_time": "2024-08-09T08:38:29.215309",
     "exception": false,
     "start_time": "2024-08-09T08:38:29.168720",
     "status": "completed"
    },
    "tags": []
   },
   "outputs": [
    {
     "data": {
      "text/html": [
       "<div>\n",
       "<style scoped>\n",
       "    .dataframe tbody tr th:only-of-type {\n",
       "        vertical-align: middle;\n",
       "    }\n",
       "\n",
       "    .dataframe tbody tr th {\n",
       "        vertical-align: top;\n",
       "    }\n",
       "\n",
       "    .dataframe thead th {\n",
       "        text-align: right;\n",
       "    }\n",
       "</style>\n",
       "<table border=\"1\" class=\"dataframe\">\n",
       "  <thead>\n",
       "    <tr style=\"text-align: right;\">\n",
       "      <th></th>\n",
       "      <th>count</th>\n",
       "      <th>mean</th>\n",
       "      <th>std</th>\n",
       "      <th>min</th>\n",
       "      <th>25%</th>\n",
       "      <th>50%</th>\n",
       "      <th>75%</th>\n",
       "      <th>max</th>\n",
       "    </tr>\n",
       "  </thead>\n",
       "  <tbody>\n",
       "    <tr>\n",
       "      <th>age</th>\n",
       "      <td>1338.0</td>\n",
       "      <td>39.207025</td>\n",
       "      <td>14.049960</td>\n",
       "      <td>18.0000</td>\n",
       "      <td>27.00000</td>\n",
       "      <td>39.000</td>\n",
       "      <td>51.000000</td>\n",
       "      <td>64.00000</td>\n",
       "    </tr>\n",
       "    <tr>\n",
       "      <th>bmi</th>\n",
       "      <td>1338.0</td>\n",
       "      <td>30.663397</td>\n",
       "      <td>6.098187</td>\n",
       "      <td>15.9600</td>\n",
       "      <td>26.29625</td>\n",
       "      <td>30.400</td>\n",
       "      <td>34.693750</td>\n",
       "      <td>53.13000</td>\n",
       "    </tr>\n",
       "    <tr>\n",
       "      <th>children</th>\n",
       "      <td>1338.0</td>\n",
       "      <td>1.094918</td>\n",
       "      <td>1.205493</td>\n",
       "      <td>0.0000</td>\n",
       "      <td>0.00000</td>\n",
       "      <td>1.000</td>\n",
       "      <td>2.000000</td>\n",
       "      <td>5.00000</td>\n",
       "    </tr>\n",
       "    <tr>\n",
       "      <th>charges</th>\n",
       "      <td>1338.0</td>\n",
       "      <td>13270.422265</td>\n",
       "      <td>12110.011237</td>\n",
       "      <td>1121.8739</td>\n",
       "      <td>4740.28715</td>\n",
       "      <td>9382.033</td>\n",
       "      <td>16639.912515</td>\n",
       "      <td>63770.42801</td>\n",
       "    </tr>\n",
       "  </tbody>\n",
       "</table>\n",
       "</div>"
      ],
      "text/plain": [
       "           count          mean           std        min         25%       50%  \\\n",
       "age       1338.0     39.207025     14.049960    18.0000    27.00000    39.000   \n",
       "bmi       1338.0     30.663397      6.098187    15.9600    26.29625    30.400   \n",
       "children  1338.0      1.094918      1.205493     0.0000     0.00000     1.000   \n",
       "charges   1338.0  13270.422265  12110.011237  1121.8739  4740.28715  9382.033   \n",
       "\n",
       "                   75%          max  \n",
       "age          51.000000     64.00000  \n",
       "bmi          34.693750     53.13000  \n",
       "children      2.000000      5.00000  \n",
       "charges   16639.912515  63770.42801  "
      ]
     },
     "execution_count": 4,
     "metadata": {},
     "output_type": "execute_result"
    }
   ],
   "source": [
    "data.describe().T"
   ]
  },
  {
   "cell_type": "code",
   "execution_count": 5,
   "id": "da4cc85d",
   "metadata": {
    "execution": {
     "iopub.execute_input": "2024-08-09T08:38:29.238877Z",
     "iopub.status.busy": "2024-08-09T08:38:29.238395Z",
     "iopub.status.idle": "2024-08-09T08:38:30.002541Z",
     "shell.execute_reply": "2024-08-09T08:38:30.001326Z"
    },
    "papermill": {
     "duration": 0.779281,
     "end_time": "2024-08-09T08:38:30.005130",
     "exception": false,
     "start_time": "2024-08-09T08:38:29.225849",
     "status": "completed"
    },
    "tags": []
   },
   "outputs": [
    {
     "data": {
      "image/png": "[encoded data removed]",
      "text/plain": [
       "<Figure size 1000x800 with 3 Axes>"
      ]
     },
     "metadata": {},
     "output_type": "display_data"
    }
   ],
   "source": [
    "categorical = data.select_dtypes(\"object\").columns.tolist()\n",
    "\n",
    "plt.figure(figsize=(10, 8))\n",
    "plt.suptitle(\"Visualizing the counts of categorical Data\", fontsize=18)\n",
    "\n",
    "for i, col in enumerate(categorical):\n",
    "    plt.subplot(len(categorical), 1, i + 1)  # Alt grafikleri dinamik olarak ayarla\n",
    "    sns.countplot(x=data[col])\n",
    "    plt.title(col.upper())\n",
    "\n",
    "plt.tight_layout(rect=[0, 0, 1, 0.96])  # Başlığı ve alt grafikleri hizala\n",
    "plt.show()"
   ]
  },
  {
   "cell_type": "markdown",
   "id": "102ef198",
   "metadata": {
    "papermill": {
     "duration": 0.01083,
     "end_time": "2024-08-09T08:38:30.027130",
     "exception": false,
     "start_time": "2024-08-09T08:38:30.016300",
     "status": "completed"
    },
    "tags": []
   },
   "source": [
    "# One-hot-encoding and Standart Scaler"
   ]
  },
  {
   "cell_type": "code",
   "execution_count": 6,
   "id": "a16fc6a7",
   "metadata": {
    "execution": {
     "iopub.execute_input": "2024-08-09T08:38:30.051395Z",
     "iopub.status.busy": "2024-08-09T08:38:30.050560Z",
     "iopub.status.idle": "2024-08-09T08:38:30.100862Z",
     "shell.execute_reply": "2024-08-09T08:38:30.099689Z"
    },
    "papermill": {
     "duration": 0.065394,
     "end_time": "2024-08-09T08:38:30.103509",
     "exception": false,
     "start_time": "2024-08-09T08:38:30.038115",
     "status": "completed"
    },
    "tags": []
   },
   "outputs": [
    {
     "data": {
      "text/html": [
       "<div>\n",
       "<style scoped>\n",
       "    .dataframe tbody tr th:only-of-type {\n",
       "        vertical-align: middle;\n",
       "    }\n",
       "\n",
       "    .dataframe tbody tr th {\n",
       "        vertical-align: top;\n",
       "    }\n",
       "\n",
       "    .dataframe thead th {\n",
       "        text-align: right;\n",
       "    }\n",
       "</style>\n",
       "<table border=\"1\" class=\"dataframe\">\n",
       "  <thead>\n",
       "    <tr style=\"text-align: right;\">\n",
       "      <th></th>\n",
       "      <th>age</th>\n",
       "      <th>bmi</th>\n",
       "      <th>children</th>\n",
       "      <th>charges</th>\n",
       "      <th>sex_female</th>\n",
       "      <th>sex_male</th>\n",
       "      <th>smoker_no</th>\n",
       "      <th>smoker_yes</th>\n",
       "      <th>region_northeast</th>\n",
       "      <th>region_northwest</th>\n",
       "      <th>region_southeast</th>\n",
       "      <th>region_southwest</th>\n",
       "    </tr>\n",
       "  </thead>\n",
       "  <tbody>\n",
       "    <tr>\n",
       "      <th>0</th>\n",
       "      <td>-1.438764</td>\n",
       "      <td>-0.453320</td>\n",
       "      <td>-0.908614</td>\n",
       "      <td>0.298584</td>\n",
       "      <td>1.0</td>\n",
       "      <td>0.0</td>\n",
       "      <td>0.0</td>\n",
       "      <td>1.0</td>\n",
       "      <td>0.0</td>\n",
       "      <td>0.0</td>\n",
       "      <td>0.0</td>\n",
       "      <td>1.0</td>\n",
       "    </tr>\n",
       "    <tr>\n",
       "      <th>1</th>\n",
       "      <td>-1.509965</td>\n",
       "      <td>0.509621</td>\n",
       "      <td>-0.078767</td>\n",
       "      <td>-0.953689</td>\n",
       "      <td>0.0</td>\n",
       "      <td>1.0</td>\n",
       "      <td>1.0</td>\n",
       "      <td>0.0</td>\n",
       "      <td>0.0</td>\n",
       "      <td>0.0</td>\n",
       "      <td>1.0</td>\n",
       "      <td>0.0</td>\n",
       "    </tr>\n",
       "    <tr>\n",
       "      <th>2</th>\n",
       "      <td>-0.797954</td>\n",
       "      <td>0.383307</td>\n",
       "      <td>1.580926</td>\n",
       "      <td>-0.728675</td>\n",
       "      <td>0.0</td>\n",
       "      <td>1.0</td>\n",
       "      <td>1.0</td>\n",
       "      <td>0.0</td>\n",
       "      <td>0.0</td>\n",
       "      <td>0.0</td>\n",
       "      <td>1.0</td>\n",
       "      <td>0.0</td>\n",
       "    </tr>\n",
       "    <tr>\n",
       "      <th>3</th>\n",
       "      <td>-0.441948</td>\n",
       "      <td>-1.305531</td>\n",
       "      <td>-0.908614</td>\n",
       "      <td>0.719843</td>\n",
       "      <td>0.0</td>\n",
       "      <td>1.0</td>\n",
       "      <td>1.0</td>\n",
       "      <td>0.0</td>\n",
       "      <td>0.0</td>\n",
       "      <td>1.0</td>\n",
       "      <td>0.0</td>\n",
       "      <td>0.0</td>\n",
       "    </tr>\n",
       "    <tr>\n",
       "      <th>4</th>\n",
       "      <td>-0.513149</td>\n",
       "      <td>-0.292556</td>\n",
       "      <td>-0.908614</td>\n",
       "      <td>-0.776802</td>\n",
       "      <td>0.0</td>\n",
       "      <td>1.0</td>\n",
       "      <td>1.0</td>\n",
       "      <td>0.0</td>\n",
       "      <td>0.0</td>\n",
       "      <td>1.0</td>\n",
       "      <td>0.0</td>\n",
       "      <td>0.0</td>\n",
       "    </tr>\n",
       "    <tr>\n",
       "      <th>...</th>\n",
       "      <td>...</td>\n",
       "      <td>...</td>\n",
       "      <td>...</td>\n",
       "      <td>...</td>\n",
       "      <td>...</td>\n",
       "      <td>...</td>\n",
       "      <td>...</td>\n",
       "      <td>...</td>\n",
       "      <td>...</td>\n",
       "      <td>...</td>\n",
       "      <td>...</td>\n",
       "      <td>...</td>\n",
       "    </tr>\n",
       "    <tr>\n",
       "      <th>1333</th>\n",
       "      <td>0.768473</td>\n",
       "      <td>0.050297</td>\n",
       "      <td>1.580926</td>\n",
       "      <td>-0.220551</td>\n",
       "      <td>0.0</td>\n",
       "      <td>1.0</td>\n",
       "      <td>1.0</td>\n",
       "      <td>0.0</td>\n",
       "      <td>0.0</td>\n",
       "      <td>1.0</td>\n",
       "      <td>0.0</td>\n",
       "      <td>0.0</td>\n",
       "    </tr>\n",
       "    <tr>\n",
       "      <th>1334</th>\n",
       "      <td>-1.509965</td>\n",
       "      <td>0.206139</td>\n",
       "      <td>-0.908614</td>\n",
       "      <td>-0.914002</td>\n",
       "      <td>1.0</td>\n",
       "      <td>0.0</td>\n",
       "      <td>1.0</td>\n",
       "      <td>0.0</td>\n",
       "      <td>1.0</td>\n",
       "      <td>0.0</td>\n",
       "      <td>0.0</td>\n",
       "      <td>0.0</td>\n",
       "    </tr>\n",
       "    <tr>\n",
       "      <th>1335</th>\n",
       "      <td>-1.509965</td>\n",
       "      <td>1.014878</td>\n",
       "      <td>-0.908614</td>\n",
       "      <td>-0.961596</td>\n",
       "      <td>1.0</td>\n",
       "      <td>0.0</td>\n",
       "      <td>1.0</td>\n",
       "      <td>0.0</td>\n",
       "      <td>0.0</td>\n",
       "      <td>0.0</td>\n",
       "      <td>1.0</td>\n",
       "      <td>0.0</td>\n",
       "    </tr>\n",
       "    <tr>\n",
       "      <th>1336</th>\n",
       "      <td>-1.296362</td>\n",
       "      <td>-0.797813</td>\n",
       "      <td>-0.908614</td>\n",
       "      <td>-0.930362</td>\n",
       "      <td>1.0</td>\n",
       "      <td>0.0</td>\n",
       "      <td>1.0</td>\n",
       "      <td>0.0</td>\n",
       "      <td>0.0</td>\n",
       "      <td>0.0</td>\n",
       "      <td>0.0</td>\n",
       "      <td>1.0</td>\n",
       "    </tr>\n",
       "    <tr>\n",
       "      <th>1337</th>\n",
       "      <td>1.551686</td>\n",
       "      <td>-0.261388</td>\n",
       "      <td>-0.908614</td>\n",
       "      <td>1.311053</td>\n",
       "      <td>1.0</td>\n",
       "      <td>0.0</td>\n",
       "      <td>0.0</td>\n",
       "      <td>1.0</td>\n",
       "      <td>0.0</td>\n",
       "      <td>1.0</td>\n",
       "      <td>0.0</td>\n",
       "      <td>0.0</td>\n",
       "    </tr>\n",
       "  </tbody>\n",
       "</table>\n",
       "<p>1338 rows × 12 columns</p>\n",
       "</div>"
      ],
      "text/plain": [
       "           age       bmi  children   charges  sex_female  sex_male  smoker_no  \\\n",
       "0    -1.438764 -0.453320 -0.908614  0.298584         1.0       0.0        0.0   \n",
       "1    -1.509965  0.509621 -0.078767 -0.953689         0.0       1.0        1.0   \n",
       "2    -0.797954  0.383307  1.580926 -0.728675         0.0       1.0        1.0   \n",
       "3    -0.441948 -1.305531 -0.908614  0.719843         0.0       1.0        1.0   \n",
       "4    -0.513149 -0.292556 -0.908614 -0.776802         0.0       1.0        1.0   \n",
       "...        ...       ...       ...       ...         ...       ...        ...   \n",
       "1333  0.768473  0.050297  1.580926 -0.220551         0.0       1.0        1.0   \n",
       "1334 -1.509965  0.206139 -0.908614 -0.914002         1.0       0.0        1.0   \n",
       "1335 -1.509965  1.014878 -0.908614 -0.961596         1.0       0.0        1.0   \n",
       "1336 -1.296362 -0.797813 -0.908614 -0.930362         1.0       0.0        1.0   \n",
       "1337  1.551686 -0.261388 -0.908614  1.311053         1.0       0.0        0.0   \n",
       "\n",
       "      smoker_yes  region_northeast  region_northwest  region_southeast  \\\n",
       "0            1.0               0.0               0.0               0.0   \n",
       "1            0.0               0.0               0.0               1.0   \n",
       "2            0.0               0.0               0.0               1.0   \n",
       "3            0.0               0.0               1.0               0.0   \n",
       "4            0.0               0.0               1.0               0.0   \n",
       "...          ...               ...               ...               ...   \n",
       "1333         0.0               0.0               1.0               0.0   \n",
       "1334         0.0               1.0               0.0               0.0   \n",
       "1335         0.0               0.0               0.0               1.0   \n",
       "1336         0.0               0.0               0.0               0.0   \n",
       "1337         1.0               0.0               1.0               0.0   \n",
       "\n",
       "      region_southwest  \n",
       "0                  1.0  \n",
       "1                  0.0  \n",
       "2                  0.0  \n",
       "3                  0.0  \n",
       "4                  0.0  \n",
       "...                ...  \n",
       "1333               0.0  \n",
       "1334               0.0  \n",
       "1335               0.0  \n",
       "1336               1.0  \n",
       "1337               0.0  \n",
       "\n",
       "[1338 rows x 12 columns]"
      ]
     },
     "execution_count": 6,
     "metadata": {},
     "output_type": "execute_result"
    }
   ],
   "source": [
    "categorical_columns = data.select_dtypes(include=['object']).columns.tolist()\n",
    "numeric_columns = data.select_dtypes(include=[int, float]).columns.tolist()\n",
    "\n",
    "\n",
    "encoder = OneHotEncoder(sparse_output=False)\n",
    "one_hot_encoded = encoder.fit_transform(data[categorical_columns])\n",
    "one_hot_df = pd.DataFrame(one_hot_encoded, columns=encoder.get_feature_names_out(categorical_columns))\n",
    "\n",
    "\n",
    "scaler = StandardScaler()\n",
    "numeric_scaled = scaler.fit_transform(data[numeric_columns])\n",
    "numeric_df = pd.DataFrame(numeric_scaled, columns=numeric_columns)\n",
    "\n",
    "\n",
    "final_df = pd.concat([numeric_df, one_hot_df], axis=1)\n",
    "\n",
    "\n",
    "final_df"
   ]
  },
  {
   "cell_type": "markdown",
   "id": "44860745",
   "metadata": {
    "papermill": {
     "duration": 0.01104,
     "end_time": "2024-08-09T08:38:30.126015",
     "exception": false,
     "start_time": "2024-08-09T08:38:30.114975",
     "status": "completed"
    },
    "tags": []
   },
   "source": [
    "# Correlation"
   ]
  },
  {
   "cell_type": "code",
   "execution_count": 7,
   "id": "7ffee1ca",
   "metadata": {
    "execution": {
     "iopub.execute_input": "2024-08-09T08:38:30.150818Z",
     "iopub.status.busy": "2024-08-09T08:38:30.150390Z",
     "iopub.status.idle": "2024-08-09T08:38:30.175069Z",
     "shell.execute_reply": "2024-08-09T08:38:30.173827Z"
    },
    "papermill": {
     "duration": 0.040478,
     "end_time": "2024-08-09T08:38:30.177951",
     "exception": false,
     "start_time": "2024-08-09T08:38:30.137473",
     "status": "completed"
    },
    "tags": []
   },
   "outputs": [
    {
     "data": {
      "text/html": [
       "<div>\n",
       "<style scoped>\n",
       "    .dataframe tbody tr th:only-of-type {\n",
       "        vertical-align: middle;\n",
       "    }\n",
       "\n",
       "    .dataframe tbody tr th {\n",
       "        vertical-align: top;\n",
       "    }\n",
       "\n",
       "    .dataframe thead th {\n",
       "        text-align: right;\n",
       "    }\n",
       "</style>\n",
       "<table border=\"1\" class=\"dataframe\">\n",
       "  <thead>\n",
       "    <tr style=\"text-align: right;\">\n",
       "      <th></th>\n",
       "      <th>age</th>\n",
       "      <th>bmi</th>\n",
       "      <th>children</th>\n",
       "      <th>charges</th>\n",
       "      <th>sex_female</th>\n",
       "      <th>sex_male</th>\n",
       "      <th>smoker_no</th>\n",
       "      <th>smoker_yes</th>\n",
       "      <th>region_northeast</th>\n",
       "      <th>region_northwest</th>\n",
       "      <th>region_southeast</th>\n",
       "      <th>region_southwest</th>\n",
       "    </tr>\n",
       "  </thead>\n",
       "  <tbody>\n",
       "    <tr>\n",
       "      <th>age</th>\n",
       "      <td>1.000000</td>\n",
       "      <td>0.109272</td>\n",
       "      <td>0.042469</td>\n",
       "      <td>0.299008</td>\n",
       "      <td>0.020856</td>\n",
       "      <td>-0.020856</td>\n",
       "      <td>0.025019</td>\n",
       "      <td>-0.025019</td>\n",
       "      <td>0.002475</td>\n",
       "      <td>-0.000407</td>\n",
       "      <td>-0.011642</td>\n",
       "      <td>0.010016</td>\n",
       "    </tr>\n",
       "    <tr>\n",
       "      <th>bmi</th>\n",
       "      <td>0.109272</td>\n",
       "      <td>1.000000</td>\n",
       "      <td>0.012759</td>\n",
       "      <td>0.198341</td>\n",
       "      <td>-0.046371</td>\n",
       "      <td>0.046371</td>\n",
       "      <td>-0.003750</td>\n",
       "      <td>0.003750</td>\n",
       "      <td>-0.138156</td>\n",
       "      <td>-0.135996</td>\n",
       "      <td>0.270025</td>\n",
       "      <td>-0.006205</td>\n",
       "    </tr>\n",
       "    <tr>\n",
       "      <th>children</th>\n",
       "      <td>0.042469</td>\n",
       "      <td>0.012759</td>\n",
       "      <td>1.000000</td>\n",
       "      <td>0.067998</td>\n",
       "      <td>-0.017163</td>\n",
       "      <td>0.017163</td>\n",
       "      <td>-0.007673</td>\n",
       "      <td>0.007673</td>\n",
       "      <td>-0.022808</td>\n",
       "      <td>0.024806</td>\n",
       "      <td>-0.023066</td>\n",
       "      <td>0.021914</td>\n",
       "    </tr>\n",
       "    <tr>\n",
       "      <th>charges</th>\n",
       "      <td>0.299008</td>\n",
       "      <td>0.198341</td>\n",
       "      <td>0.067998</td>\n",
       "      <td>1.000000</td>\n",
       "      <td>-0.057292</td>\n",
       "      <td>0.057292</td>\n",
       "      <td>-0.787251</td>\n",
       "      <td>0.787251</td>\n",
       "      <td>0.006349</td>\n",
       "      <td>-0.039905</td>\n",
       "      <td>0.073982</td>\n",
       "      <td>-0.043210</td>\n",
       "    </tr>\n",
       "    <tr>\n",
       "      <th>sex_female</th>\n",
       "      <td>0.020856</td>\n",
       "      <td>-0.046371</td>\n",
       "      <td>-0.017163</td>\n",
       "      <td>-0.057292</td>\n",
       "      <td>1.000000</td>\n",
       "      <td>-1.000000</td>\n",
       "      <td>0.076185</td>\n",
       "      <td>-0.076185</td>\n",
       "      <td>0.002425</td>\n",
       "      <td>0.011156</td>\n",
       "      <td>-0.017117</td>\n",
       "      <td>0.004184</td>\n",
       "    </tr>\n",
       "    <tr>\n",
       "      <th>sex_male</th>\n",
       "      <td>-0.020856</td>\n",
       "      <td>0.046371</td>\n",
       "      <td>0.017163</td>\n",
       "      <td>0.057292</td>\n",
       "      <td>-1.000000</td>\n",
       "      <td>1.000000</td>\n",
       "      <td>-0.076185</td>\n",
       "      <td>0.076185</td>\n",
       "      <td>-0.002425</td>\n",
       "      <td>-0.011156</td>\n",
       "      <td>0.017117</td>\n",
       "      <td>-0.004184</td>\n",
       "    </tr>\n",
       "    <tr>\n",
       "      <th>smoker_no</th>\n",
       "      <td>0.025019</td>\n",
       "      <td>-0.003750</td>\n",
       "      <td>-0.007673</td>\n",
       "      <td>-0.787251</td>\n",
       "      <td>0.076185</td>\n",
       "      <td>-0.076185</td>\n",
       "      <td>1.000000</td>\n",
       "      <td>-1.000000</td>\n",
       "      <td>-0.002811</td>\n",
       "      <td>0.036945</td>\n",
       "      <td>-0.068498</td>\n",
       "      <td>0.036945</td>\n",
       "    </tr>\n",
       "    <tr>\n",
       "      <th>smoker_yes</th>\n",
       "      <td>-0.025019</td>\n",
       "      <td>0.003750</td>\n",
       "      <td>0.007673</td>\n",
       "      <td>0.787251</td>\n",
       "      <td>-0.076185</td>\n",
       "      <td>0.076185</td>\n",
       "      <td>-1.000000</td>\n",
       "      <td>1.000000</td>\n",
       "      <td>0.002811</td>\n",
       "      <td>-0.036945</td>\n",
       "      <td>0.068498</td>\n",
       "      <td>-0.036945</td>\n",
       "    </tr>\n",
       "    <tr>\n",
       "      <th>region_northeast</th>\n",
       "      <td>0.002475</td>\n",
       "      <td>-0.138156</td>\n",
       "      <td>-0.022808</td>\n",
       "      <td>0.006349</td>\n",
       "      <td>0.002425</td>\n",
       "      <td>-0.002425</td>\n",
       "      <td>-0.002811</td>\n",
       "      <td>0.002811</td>\n",
       "      <td>1.000000</td>\n",
       "      <td>-0.320177</td>\n",
       "      <td>-0.345561</td>\n",
       "      <td>-0.320177</td>\n",
       "    </tr>\n",
       "    <tr>\n",
       "      <th>region_northwest</th>\n",
       "      <td>-0.000407</td>\n",
       "      <td>-0.135996</td>\n",
       "      <td>0.024806</td>\n",
       "      <td>-0.039905</td>\n",
       "      <td>0.011156</td>\n",
       "      <td>-0.011156</td>\n",
       "      <td>0.036945</td>\n",
       "      <td>-0.036945</td>\n",
       "      <td>-0.320177</td>\n",
       "      <td>1.000000</td>\n",
       "      <td>-0.346265</td>\n",
       "      <td>-0.320829</td>\n",
       "    </tr>\n",
       "    <tr>\n",
       "      <th>region_southeast</th>\n",
       "      <td>-0.011642</td>\n",
       "      <td>0.270025</td>\n",
       "      <td>-0.023066</td>\n",
       "      <td>0.073982</td>\n",
       "      <td>-0.017117</td>\n",
       "      <td>0.017117</td>\n",
       "      <td>-0.068498</td>\n",
       "      <td>0.068498</td>\n",
       "      <td>-0.345561</td>\n",
       "      <td>-0.346265</td>\n",
       "      <td>1.000000</td>\n",
       "      <td>-0.346265</td>\n",
       "    </tr>\n",
       "    <tr>\n",
       "      <th>region_southwest</th>\n",
       "      <td>0.010016</td>\n",
       "      <td>-0.006205</td>\n",
       "      <td>0.021914</td>\n",
       "      <td>-0.043210</td>\n",
       "      <td>0.004184</td>\n",
       "      <td>-0.004184</td>\n",
       "      <td>0.036945</td>\n",
       "      <td>-0.036945</td>\n",
       "      <td>-0.320177</td>\n",
       "      <td>-0.320829</td>\n",
       "      <td>-0.346265</td>\n",
       "      <td>1.000000</td>\n",
       "    </tr>\n",
       "  </tbody>\n",
       "</table>\n",
       "</div>"
      ],
      "text/plain": [
       "                       age       bmi  children   charges  sex_female  \\\n",
       "age               1.000000  0.109272  0.042469  0.299008    0.020856   \n",
       "bmi               0.109272  1.000000  0.012759  0.198341   -0.046371   \n",
       "children          0.042469  0.012759  1.000000  0.067998   -0.017163   \n",
       "charges           0.299008  0.198341  0.067998  1.000000   -0.057292   \n",
       "sex_female        0.020856 -0.046371 -0.017163 -0.057292    1.000000   \n",
       "sex_male         -0.020856  0.046371  0.017163  0.057292   -1.000000   \n",
       "smoker_no         0.025019 -0.003750 -0.007673 -0.787251    0.076185   \n",
       "smoker_yes       -0.025019  0.003750  0.007673  0.787251   -0.076185   \n",
       "region_northeast  0.002475 -0.138156 -0.022808  0.006349    0.002425   \n",
       "region_northwest -0.000407 -0.135996  0.024806 -0.039905    0.011156   \n",
       "region_southeast -0.011642  0.270025 -0.023066  0.073982   -0.017117   \n",
       "region_southwest  0.010016 -0.006205  0.021914 -0.043210    0.004184   \n",
       "\n",
       "                  sex_male  smoker_no  smoker_yes  region_northeast  \\\n",
       "age              -0.020856   0.025019   -0.025019          0.002475   \n",
       "bmi               0.046371  -0.003750    0.003750         -0.138156   \n",
       "children          0.017163  -0.007673    0.007673         -0.022808   \n",
       "charges           0.057292  -0.787251    0.787251          0.006349   \n",
       "sex_female       -1.000000   0.076185   -0.076185          0.002425   \n",
       "sex_male          1.000000  -0.076185    0.076185         -0.002425   \n",
       "smoker_no        -0.076185   1.000000   -1.000000         -0.002811   \n",
       "smoker_yes        0.076185  -1.000000    1.000000          0.002811   \n",
       "region_northeast -0.002425  -0.002811    0.002811          1.000000   \n",
       "region_northwest -0.011156   0.036945   -0.036945         -0.320177   \n",
       "region_southeast  0.017117  -0.068498    0.068498         -0.345561   \n",
       "region_southwest -0.004184   0.036945   -0.036945         -0.320177   \n",
       "\n",
       "                  region_northwest  region_southeast  region_southwest  \n",
       "age                      -0.000407         -0.011642          0.010016  \n",
       "bmi                      -0.135996          0.270025         -0.006205  \n",
       "children                  0.024806         -0.023066          0.021914  \n",
       "charges                  -0.039905          0.073982         -0.043210  \n",
       "sex_female                0.011156         -0.017117          0.004184  \n",
       "sex_male                 -0.011156          0.017117         -0.004184  \n",
       "smoker_no                 0.036945         -0.068498          0.036945  \n",
       "smoker_yes               -0.036945          0.068498         -0.036945  \n",
       "region_northeast         -0.320177         -0.345561         -0.320177  \n",
       "region_northwest          1.000000         -0.346265         -0.320829  \n",
       "region_southeast         -0.346265          1.000000         -0.346265  \n",
       "region_southwest         -0.320829         -0.346265          1.000000  "
      ]
     },
     "execution_count": 7,
     "metadata": {},
     "output_type": "execute_result"
    }
   ],
   "source": [
    "final_df.corr()"
   ]
  },
  {
   "cell_type": "code",
   "execution_count": 8,
   "id": "7902cc02",
   "metadata": {
    "execution": {
     "iopub.execute_input": "2024-08-09T08:38:30.204118Z",
     "iopub.status.busy": "2024-08-09T08:38:30.203405Z",
     "iopub.status.idle": "2024-08-09T08:38:30.981179Z",
     "shell.execute_reply": "2024-08-09T08:38:30.980042Z"
    },
    "papermill": {
     "duration": 0.79545,
     "end_time": "2024-08-09T08:38:30.985429",
     "exception": false,
     "start_time": "2024-08-09T08:38:30.189979",
     "status": "completed"
    },
    "tags": []
   },
   "outputs": [
    {
     "data": {
      "image/png": "[encoded data removed]",
      "text/plain": [
       "<Figure size 1000x800 with 2 Axes>"
      ]
     },
     "metadata": {},
     "output_type": "display_data"
    }
   ],
   "source": [
    "corr_matrix=final_df.corr()\n",
    "plt.figure(figsize=(10, 8))\n",
    "sns.heatmap(corr_matrix, annot=True, fmt=\".2f\", cmap=\"coolwarm\", linewidths=0.5)\n",
    "plt.title(\"Correlation Matrix Heatmap\")\n",
    "plt.show()"
   ]
  },
  {
   "cell_type": "markdown",
   "id": "fbed0bb3",
   "metadata": {
    "papermill": {
     "duration": 0.014028,
     "end_time": "2024-08-09T08:38:31.014812",
     "exception": false,
     "start_time": "2024-08-09T08:38:31.000784",
     "status": "completed"
    },
    "tags": []
   },
   "source": [
    "# Target Features"
   ]
  },
  {
   "cell_type": "code",
   "execution_count": 9,
   "id": "cc4f609b",
   "metadata": {
    "execution": {
     "iopub.execute_input": "2024-08-09T08:38:31.045554Z",
     "iopub.status.busy": "2024-08-09T08:38:31.044571Z",
     "iopub.status.idle": "2024-08-09T08:38:31.051187Z",
     "shell.execute_reply": "2024-08-09T08:38:31.050056Z"
    },
    "papermill": {
     "duration": 0.024775,
     "end_time": "2024-08-09T08:38:31.053847",
     "exception": false,
     "start_time": "2024-08-09T08:38:31.029072",
     "status": "completed"
    },
    "tags": []
   },
   "outputs": [],
   "source": [
    "x=final_df.drop('charges',axis = 1)\n",
    "y=final_df[\"charges\"]"
   ]
  },
  {
   "cell_type": "code",
   "execution_count": 10,
   "id": "a8c3d08b",
   "metadata": {
    "execution": {
     "iopub.execute_input": "2024-08-09T08:38:31.084781Z",
     "iopub.status.busy": "2024-08-09T08:38:31.084367Z",
     "iopub.status.idle": "2024-08-09T08:38:31.091620Z",
     "shell.execute_reply": "2024-08-09T08:38:31.090378Z"
    },
    "papermill": {
     "duration": 0.026111,
     "end_time": "2024-08-09T08:38:31.094267",
     "exception": false,
     "start_time": "2024-08-09T08:38:31.068156",
     "status": "completed"
    },
    "tags": []
   },
   "outputs": [
    {
     "data": {
      "text/plain": [
       "(1338, 12)"
      ]
     },
     "execution_count": 10,
     "metadata": {},
     "output_type": "execute_result"
    }
   ],
   "source": [
    "final_df.shape"
   ]
  },
  {
   "cell_type": "markdown",
   "id": "ff1adb1c",
   "metadata": {
    "papermill": {
     "duration": 0.01478,
     "end_time": "2024-08-09T08:38:31.123772",
     "exception": false,
     "start_time": "2024-08-09T08:38:31.108992",
     "status": "completed"
    },
    "tags": []
   },
   "source": [
    "# Train-Test-Split"
   ]
  },
  {
   "cell_type": "code",
   "execution_count": 11,
   "id": "3036fa10",
   "metadata": {
    "execution": {
     "iopub.execute_input": "2024-08-09T08:38:31.154504Z",
     "iopub.status.busy": "2024-08-09T08:38:31.154085Z",
     "iopub.status.idle": "2024-08-09T08:38:31.164441Z",
     "shell.execute_reply": "2024-08-09T08:38:31.163426Z"
    },
    "papermill": {
     "duration": 0.028492,
     "end_time": "2024-08-09T08:38:31.166872",
     "exception": false,
     "start_time": "2024-08-09T08:38:31.138380",
     "status": "completed"
    },
    "tags": []
   },
   "outputs": [],
   "source": [
    "X_train,X_test,y_train,y_test = train_test_split(x,y,test_size = 0.01,random_state=50)"
   ]
  },
  {
   "cell_type": "code",
   "execution_count": 12,
   "id": "1bc458e1",
   "metadata": {
    "execution": {
     "iopub.execute_input": "2024-08-09T08:38:31.197456Z",
     "iopub.status.busy": "2024-08-09T08:38:31.197032Z",
     "iopub.status.idle": "2024-08-09T08:38:31.201926Z",
     "shell.execute_reply": "2024-08-09T08:38:31.200757Z"
    },
    "papermill": {
     "duration": 0.02318,
     "end_time": "2024-08-09T08:38:31.204366",
     "exception": false,
     "start_time": "2024-08-09T08:38:31.181186",
     "status": "completed"
    },
    "tags": []
   },
   "outputs": [],
   "source": [
    "lr=LinearRegression()\n"
   ]
  },
  {
   "cell_type": "markdown",
   "id": "dd4e5cd8",
   "metadata": {
    "papermill": {
     "duration": 0.014018,
     "end_time": "2024-08-09T08:38:31.232578",
     "exception": false,
     "start_time": "2024-08-09T08:38:31.218560",
     "status": "completed"
    },
    "tags": []
   },
   "source": [
    "## Kfold"
   ]
  },
  {
   "cell_type": "code",
   "execution_count": 13,
   "id": "45726bf1",
   "metadata": {
    "execution": {
     "iopub.execute_input": "2024-08-09T08:38:31.264642Z",
     "iopub.status.busy": "2024-08-09T08:38:31.264226Z",
     "iopub.status.idle": "2024-08-09T08:38:31.357951Z",
     "shell.execute_reply": "2024-08-09T08:38:31.356609Z"
    },
    "papermill": {
     "duration": 0.114078,
     "end_time": "2024-08-09T08:38:31.361870",
     "exception": false,
     "start_time": "2024-08-09T08:38:31.247792",
     "status": "completed"
    },
    "tags": []
   },
   "outputs": [
    {
     "name": "stdout",
     "output_type": "stream",
     "text": [
      "R^2 scores for each fold: [0.8045348  0.76417495 0.79385722 0.72733035 0.76594528 0.75816736\n",
      " 0.68565136 0.72500548 0.69060893 0.71268903]\n",
      "Mean R^2 score: 0.7427964768082904\n"
     ]
    }
   ],
   "source": [
    "kf = KFold(n_splits=10, shuffle=True, random_state=50)\n",
    "r2_scores = cross_val_score(lr, x, y, cv=kf, scoring='r2')\n",
    "\n",
    "# Output the R^2 scores for each fold and the mean score\n",
    "print(\"R^2 scores for each fold:\", r2_scores)\n",
    "print(\"Mean R^2 score:\", np.mean(r2_scores))"
   ]
  },
  {
   "cell_type": "code",
   "execution_count": 14,
   "id": "c0131dae",
   "metadata": {
    "execution": {
     "iopub.execute_input": "2024-08-09T08:38:31.393209Z",
     "iopub.status.busy": "2024-08-09T08:38:31.392773Z",
     "iopub.status.idle": "2024-08-09T08:38:31.417629Z",
     "shell.execute_reply": "2024-08-09T08:38:31.416752Z"
    },
    "papermill": {
     "duration": 0.045019,
     "end_time": "2024-08-09T08:38:31.421647",
     "exception": false,
     "start_time": "2024-08-09T08:38:31.376628",
     "status": "completed"
    },
    "tags": []
   },
   "outputs": [
    {
     "data": {
      "text/html": [
       "<style>#sk-container-id-1 {color: black;background-color: white;}#sk-container-id-1 pre{padding: 0;}#sk-container-id-1 div.sk-toggleable {background-color: white;}#sk-container-id-1 label.sk-toggleable__label {cursor: pointer;display: block;width: 100%;margin-bottom: 0;padding: 0.3em;box-sizing: border-box;text-align: center;}#sk-container-id-1 label.sk-toggleable__label-arrow:before {content: \"▸\";float: left;margin-right: 0.25em;color: #696969;}#sk-container-id-1 label.sk-toggleable__label-arrow:hover:before {color: black;}#sk-container-id-1 div.sk-estimator:hover label.sk-toggleable__label-arrow:before {color: black;}#sk-container-id-1 div.sk-toggleable__content {max-height: 0;max-width: 0;overflow: hidden;text-align: left;background-color: #f0f8ff;}#sk-container-id-1 div.sk-toggleable__content pre {margin: 0.2em;color: black;border-radius: 0.25em;background-color: #f0f8ff;}#sk-container-id-1 input.sk-toggleable__control:checked~div.sk-toggleable__content {max-height: 200px;max-width: 100%;overflow: auto;}#sk-container-id-1 input.sk-toggleable__control:checked~label.sk-toggleable__label-arrow:before {content: \"▾\";}#sk-container-id-1 div.sk-estimator input.sk-toggleable__control:checked~label.sk-toggleable__label {background-color: #d4ebff;}#sk-container-id-1 div.sk-label input.sk-toggleable__control:checked~label.sk-toggleable__label {background-color: #d4ebff;}#sk-container-id-1 input.sk-hidden--visually {border: 0;clip: rect(1px 1px 1px 1px);clip: rect(1px, 1px, 1px, 1px);height: 1px;margin: -1px;overflow: hidden;padding: 0;position: absolute;width: 1px;}#sk-container-id-1 div.sk-estimator {font-family: monospace;background-color: #f0f8ff;border: 1px dotted black;border-radius: 0.25em;box-sizing: border-box;margin-bottom: 0.5em;}#sk-container-id-1 div.sk-estimator:hover {background-color: #d4ebff;}#sk-container-id-1 div.sk-parallel-item::after {content: \"\";width: 100%;border-bottom: 1px solid gray;flex-grow: 1;}#sk-container-id-1 div.sk-label:hover label.sk-toggleable__label {background-color: #d4ebff;}#sk-container-id-1 div.sk-serial::before {content: \"\";position: absolute;border-left: 1px solid gray;box-sizing: border-box;top: 0;bottom: 0;left: 50%;z-index: 0;}#sk-container-id-1 div.sk-serial {display: flex;flex-direction: column;align-items: center;background-color: white;padding-right: 0.2em;padding-left: 0.2em;position: relative;}#sk-container-id-1 div.sk-item {position: relative;z-index: 1;}#sk-container-id-1 div.sk-parallel {display: flex;align-items: stretch;justify-content: center;background-color: white;position: relative;}#sk-container-id-1 div.sk-item::before, #sk-container-id-1 div.sk-parallel-item::before {content: \"\";position: absolute;border-left: 1px solid gray;box-sizing: border-box;top: 0;bottom: 0;left: 50%;z-index: -1;}#sk-container-id-1 div.sk-parallel-item {display: flex;flex-direction: column;z-index: 1;position: relative;background-color: white;}#sk-container-id-1 div.sk-parallel-item:first-child::after {align-self: flex-end;width: 50%;}#sk-container-id-1 div.sk-parallel-item:last-child::after {align-self: flex-start;width: 50%;}#sk-container-id-1 div.sk-parallel-item:only-child::after {width: 0;}#sk-container-id-1 div.sk-dashed-wrapped {border: 1px dashed gray;margin: 0 0.4em 0.5em 0.4em;box-sizing: border-box;padding-bottom: 0.4em;background-color: white;}#sk-container-id-1 div.sk-label label {font-family: monospace;font-weight: bold;display: inline-block;line-height: 1.2em;}#sk-container-id-1 div.sk-label-container {text-align: center;}#sk-container-id-1 div.sk-container {/* jupyter's `normalize.less` sets `[hidden] { display: none; }` but bootstrap.min.css set `[hidden] { display: none !important; }` so we also need the `!important` here to be able to override the default hidden behavior on the sphinx rendered scikit-learn.org. See: https://github.com/scikit-learn/scikit-learn/issues/21755 */display: inline-block !important;position: relative;}#sk-container-id-1 div.sk-text-repr-fallback {display: none;}</style><div id=\"sk-container-id-1\" class=\"sk-top-container\"><div class=\"sk-text-repr-fallback\"><pre>LinearRegression()</pre><b>In a Jupyter environment, please rerun this cell to show the HTML representation or trust the notebook. <br />On GitHub, the HTML representation is unable to render, please try loading this page with nbviewer.org.</b></div><div class=\"sk-container\" hidden><div class=\"sk-item\"><div class=\"sk-estimator sk-toggleable\"><input class=\"sk-toggleable__control sk-hidden--visually\" id=\"sk-estimator-id-1\" type=\"checkbox\" checked><label for=\"sk-estimator-id-1\" class=\"sk-toggleable__label sk-toggleable__label-arrow\">LinearRegression</label><div class=\"sk-toggleable__content\"><pre>LinearRegression()</pre></div></div></div></div></div>"
      ],
      "text/plain": [
       "LinearRegression()"
      ]
     },
     "execution_count": 14,
     "metadata": {},
     "output_type": "execute_result"
    }
   ],
   "source": [
    "lr.fit(X_train,y_train)"
   ]
  },
  {
   "cell_type": "code",
   "execution_count": 15,
   "id": "e1db24a2",
   "metadata": {
    "execution": {
     "iopub.execute_input": "2024-08-09T08:38:31.470209Z",
     "iopub.status.busy": "2024-08-09T08:38:31.469692Z",
     "iopub.status.idle": "2024-08-09T08:38:31.478848Z",
     "shell.execute_reply": "2024-08-09T08:38:31.477854Z"
    },
    "papermill": {
     "duration": 0.040072,
     "end_time": "2024-08-09T08:38:31.484211",
     "exception": false,
     "start_time": "2024-08-09T08:38:31.444139",
     "status": "completed"
    },
    "tags": []
   },
   "outputs": [],
   "source": [
    "y_head=lr.predict(X_test)"
   ]
  },
  {
   "cell_type": "code",
   "execution_count": 16,
   "id": "63973cd6",
   "metadata": {
    "execution": {
     "iopub.execute_input": "2024-08-09T08:38:31.540375Z",
     "iopub.status.busy": "2024-08-09T08:38:31.539918Z",
     "iopub.status.idle": "2024-08-09T08:38:31.545735Z",
     "shell.execute_reply": "2024-08-09T08:38:31.544846Z"
    },
    "papermill": {
     "duration": 0.03429,
     "end_time": "2024-08-09T08:38:31.549764",
     "exception": false,
     "start_time": "2024-08-09T08:38:31.515474",
     "status": "completed"
    },
    "tags": []
   },
   "outputs": [],
   "source": [
    "r2=r2_score(y_test,y_head)"
   ]
  },
  {
   "cell_type": "code",
   "execution_count": 17,
   "id": "66eb368f",
   "metadata": {
    "execution": {
     "iopub.execute_input": "2024-08-09T08:38:31.590265Z",
     "iopub.status.busy": "2024-08-09T08:38:31.589514Z",
     "iopub.status.idle": "2024-08-09T08:38:31.598918Z",
     "shell.execute_reply": "2024-08-09T08:38:31.597049Z"
    },
    "papermill": {
     "duration": 0.030107,
     "end_time": "2024-08-09T08:38:31.601630",
     "exception": false,
     "start_time": "2024-08-09T08:38:31.571523",
     "status": "completed"
    },
    "tags": []
   },
   "outputs": [
    {
     "name": "stdout",
     "output_type": "stream",
     "text": [
      "r2 skorum:  0.8553069801489734\n"
     ]
    }
   ],
   "source": [
    "print(\"r2 skorum: \",r2)"
   ]
  },
  {
   "cell_type": "code",
   "execution_count": 18,
   "id": "4effe9c1",
   "metadata": {
    "collapsed": true,
    "execution": {
     "iopub.execute_input": "2024-08-09T08:38:31.636580Z",
     "iopub.status.busy": "2024-08-09T08:38:31.636176Z",
     "iopub.status.idle": "2024-08-09T08:38:31.646520Z",
     "shell.execute_reply": "2024-08-09T08:38:31.645359Z"
    },
    "jupyter": {
     "outputs_hidden": true
    },
    "papermill": {
     "duration": 0.03015,
     "end_time": "2024-08-09T08:38:31.649175",
     "exception": false,
     "start_time": "2024-08-09T08:38:31.619025",
     "status": "completed"
    },
    "tags": []
   },
   "outputs": [
    {
     "data": {
      "text/plain": [
       "0.8553069801489734"
      ]
     },
     "execution_count": 18,
     "metadata": {},
     "output_type": "execute_result"
    }
   ],
   "source": [
    "lr.score(X_test, y_test)"
   ]
  },
  {
   "cell_type": "code",
   "execution_count": 19,
   "id": "a18701fd",
   "metadata": {
    "execution": {
     "iopub.execute_input": "2024-08-09T08:38:31.681824Z",
     "iopub.status.busy": "2024-08-09T08:38:31.681350Z",
     "iopub.status.idle": "2024-08-09T08:38:31.710753Z",
     "shell.execute_reply": "2024-08-09T08:38:31.709666Z"
    },
    "papermill": {
     "duration": 0.048613,
     "end_time": "2024-08-09T08:38:31.713271",
     "exception": false,
     "start_time": "2024-08-09T08:38:31.664658",
     "status": "completed"
    },
    "tags": []
   },
   "outputs": [
    {
     "data": {
      "text/html": [
       "<div>\n",
       "<style scoped>\n",
       "    .dataframe tbody tr th:only-of-type {\n",
       "        vertical-align: middle;\n",
       "    }\n",
       "\n",
       "    .dataframe tbody tr th {\n",
       "        vertical-align: top;\n",
       "    }\n",
       "\n",
       "    .dataframe thead th {\n",
       "        text-align: right;\n",
       "    }\n",
       "</style>\n",
       "<table border=\"1\" class=\"dataframe\">\n",
       "  <thead>\n",
       "    <tr style=\"text-align: right;\">\n",
       "      <th></th>\n",
       "      <th>age</th>\n",
       "      <th>bmi</th>\n",
       "      <th>children</th>\n",
       "      <th>sex_female</th>\n",
       "      <th>sex_male</th>\n",
       "      <th>smoker_no</th>\n",
       "      <th>smoker_yes</th>\n",
       "      <th>region_northeast</th>\n",
       "      <th>region_northwest</th>\n",
       "      <th>region_southeast</th>\n",
       "      <th>region_southwest</th>\n",
       "    </tr>\n",
       "  </thead>\n",
       "  <tbody>\n",
       "    <tr>\n",
       "      <th>0</th>\n",
       "      <td>-1.438764</td>\n",
       "      <td>-0.453320</td>\n",
       "      <td>-0.908614</td>\n",
       "      <td>1.0</td>\n",
       "      <td>0.0</td>\n",
       "      <td>0.0</td>\n",
       "      <td>1.0</td>\n",
       "      <td>0.0</td>\n",
       "      <td>0.0</td>\n",
       "      <td>0.0</td>\n",
       "      <td>1.0</td>\n",
       "    </tr>\n",
       "    <tr>\n",
       "      <th>1</th>\n",
       "      <td>-1.509965</td>\n",
       "      <td>0.509621</td>\n",
       "      <td>-0.078767</td>\n",
       "      <td>0.0</td>\n",
       "      <td>1.0</td>\n",
       "      <td>1.0</td>\n",
       "      <td>0.0</td>\n",
       "      <td>0.0</td>\n",
       "      <td>0.0</td>\n",
       "      <td>1.0</td>\n",
       "      <td>0.0</td>\n",
       "    </tr>\n",
       "    <tr>\n",
       "      <th>2</th>\n",
       "      <td>-0.797954</td>\n",
       "      <td>0.383307</td>\n",
       "      <td>1.580926</td>\n",
       "      <td>0.0</td>\n",
       "      <td>1.0</td>\n",
       "      <td>1.0</td>\n",
       "      <td>0.0</td>\n",
       "      <td>0.0</td>\n",
       "      <td>0.0</td>\n",
       "      <td>1.0</td>\n",
       "      <td>0.0</td>\n",
       "    </tr>\n",
       "    <tr>\n",
       "      <th>3</th>\n",
       "      <td>-0.441948</td>\n",
       "      <td>-1.305531</td>\n",
       "      <td>-0.908614</td>\n",
       "      <td>0.0</td>\n",
       "      <td>1.0</td>\n",
       "      <td>1.0</td>\n",
       "      <td>0.0</td>\n",
       "      <td>0.0</td>\n",
       "      <td>1.0</td>\n",
       "      <td>0.0</td>\n",
       "      <td>0.0</td>\n",
       "    </tr>\n",
       "    <tr>\n",
       "      <th>4</th>\n",
       "      <td>-0.513149</td>\n",
       "      <td>-0.292556</td>\n",
       "      <td>-0.908614</td>\n",
       "      <td>0.0</td>\n",
       "      <td>1.0</td>\n",
       "      <td>1.0</td>\n",
       "      <td>0.0</td>\n",
       "      <td>0.0</td>\n",
       "      <td>1.0</td>\n",
       "      <td>0.0</td>\n",
       "      <td>0.0</td>\n",
       "    </tr>\n",
       "    <tr>\n",
       "      <th>...</th>\n",
       "      <td>...</td>\n",
       "      <td>...</td>\n",
       "      <td>...</td>\n",
       "      <td>...</td>\n",
       "      <td>...</td>\n",
       "      <td>...</td>\n",
       "      <td>...</td>\n",
       "      <td>...</td>\n",
       "      <td>...</td>\n",
       "      <td>...</td>\n",
       "      <td>...</td>\n",
       "    </tr>\n",
       "    <tr>\n",
       "      <th>1333</th>\n",
       "      <td>0.768473</td>\n",
       "      <td>0.050297</td>\n",
       "      <td>1.580926</td>\n",
       "      <td>0.0</td>\n",
       "      <td>1.0</td>\n",
       "      <td>1.0</td>\n",
       "      <td>0.0</td>\n",
       "      <td>0.0</td>\n",
       "      <td>1.0</td>\n",
       "      <td>0.0</td>\n",
       "      <td>0.0</td>\n",
       "    </tr>\n",
       "    <tr>\n",
       "      <th>1334</th>\n",
       "      <td>-1.509965</td>\n",
       "      <td>0.206139</td>\n",
       "      <td>-0.908614</td>\n",
       "      <td>1.0</td>\n",
       "      <td>0.0</td>\n",
       "      <td>1.0</td>\n",
       "      <td>0.0</td>\n",
       "      <td>1.0</td>\n",
       "      <td>0.0</td>\n",
       "      <td>0.0</td>\n",
       "      <td>0.0</td>\n",
       "    </tr>\n",
       "    <tr>\n",
       "      <th>1335</th>\n",
       "      <td>-1.509965</td>\n",
       "      <td>1.014878</td>\n",
       "      <td>-0.908614</td>\n",
       "      <td>1.0</td>\n",
       "      <td>0.0</td>\n",
       "      <td>1.0</td>\n",
       "      <td>0.0</td>\n",
       "      <td>0.0</td>\n",
       "      <td>0.0</td>\n",
       "      <td>1.0</td>\n",
       "      <td>0.0</td>\n",
       "    </tr>\n",
       "    <tr>\n",
       "      <th>1336</th>\n",
       "      <td>-1.296362</td>\n",
       "      <td>-0.797813</td>\n",
       "      <td>-0.908614</td>\n",
       "      <td>1.0</td>\n",
       "      <td>0.0</td>\n",
       "      <td>1.0</td>\n",
       "      <td>0.0</td>\n",
       "      <td>0.0</td>\n",
       "      <td>0.0</td>\n",
       "      <td>0.0</td>\n",
       "      <td>1.0</td>\n",
       "    </tr>\n",
       "    <tr>\n",
       "      <th>1337</th>\n",
       "      <td>1.551686</td>\n",
       "      <td>-0.261388</td>\n",
       "      <td>-0.908614</td>\n",
       "      <td>1.0</td>\n",
       "      <td>0.0</td>\n",
       "      <td>0.0</td>\n",
       "      <td>1.0</td>\n",
       "      <td>0.0</td>\n",
       "      <td>1.0</td>\n",
       "      <td>0.0</td>\n",
       "      <td>0.0</td>\n",
       "    </tr>\n",
       "  </tbody>\n",
       "</table>\n",
       "<p>1338 rows × 11 columns</p>\n",
       "</div>"
      ],
      "text/plain": [
       "           age       bmi  children  sex_female  sex_male  smoker_no  \\\n",
       "0    -1.438764 -0.453320 -0.908614         1.0       0.0        0.0   \n",
       "1    -1.509965  0.509621 -0.078767         0.0       1.0        1.0   \n",
       "2    -0.797954  0.383307  1.580926         0.0       1.0        1.0   \n",
       "3    -0.441948 -1.305531 -0.908614         0.0       1.0        1.0   \n",
       "4    -0.513149 -0.292556 -0.908614         0.0       1.0        1.0   \n",
       "...        ...       ...       ...         ...       ...        ...   \n",
       "1333  0.768473  0.050297  1.580926         0.0       1.0        1.0   \n",
       "1334 -1.509965  0.206139 -0.908614         1.0       0.0        1.0   \n",
       "1335 -1.509965  1.014878 -0.908614         1.0       0.0        1.0   \n",
       "1336 -1.296362 -0.797813 -0.908614         1.0       0.0        1.0   \n",
       "1337  1.551686 -0.261388 -0.908614         1.0       0.0        0.0   \n",
       "\n",
       "      smoker_yes  region_northeast  region_northwest  region_southeast  \\\n",
       "0            1.0               0.0               0.0               0.0   \n",
       "1            0.0               0.0               0.0               1.0   \n",
       "2            0.0               0.0               0.0               1.0   \n",
       "3            0.0               0.0               1.0               0.0   \n",
       "4            0.0               0.0               1.0               0.0   \n",
       "...          ...               ...               ...               ...   \n",
       "1333         0.0               0.0               1.0               0.0   \n",
       "1334         0.0               1.0               0.0               0.0   \n",
       "1335         0.0               0.0               0.0               1.0   \n",
       "1336         0.0               0.0               0.0               0.0   \n",
       "1337         1.0               0.0               1.0               0.0   \n",
       "\n",
       "      region_southwest  \n",
       "0                  1.0  \n",
       "1                  0.0  \n",
       "2                  0.0  \n",
       "3                  0.0  \n",
       "4                  0.0  \n",
       "...                ...  \n",
       "1333               0.0  \n",
       "1334               0.0  \n",
       "1335               0.0  \n",
       "1336               1.0  \n",
       "1337               0.0  \n",
       "\n",
       "[1338 rows x 11 columns]"
      ]
     },
     "execution_count": 19,
     "metadata": {},
     "output_type": "execute_result"
    }
   ],
   "source": [
    "x"
   ]
  },
  {
   "cell_type": "markdown",
   "id": "8c1b035a",
   "metadata": {
    "papermill": {
     "duration": 0.019863,
     "end_time": "2024-08-09T08:38:31.749174",
     "exception": false,
     "start_time": "2024-08-09T08:38:31.729311",
     "status": "completed"
    },
    "tags": []
   },
   "source": [
    "# Polynomial Features"
   ]
  },
  {
   "cell_type": "code",
   "execution_count": 20,
   "id": "7a2a3d65",
   "metadata": {
    "execution": {
     "iopub.execute_input": "2024-08-09T08:38:31.787184Z",
     "iopub.status.busy": "2024-08-09T08:38:31.786734Z",
     "iopub.status.idle": "2024-08-09T08:38:33.571661Z",
     "shell.execute_reply": "2024-08-09T08:38:33.570114Z"
    },
    "papermill": {
     "duration": 1.807346,
     "end_time": "2024-08-09T08:38:33.575807",
     "exception": false,
     "start_time": "2024-08-09T08:38:31.768461",
     "status": "completed"
    },
    "tags": []
   },
   "outputs": [
    {
     "name": "stdout",
     "output_type": "stream",
     "text": [
      "Her katlama için R^2 skorları (polinomal özellikler): [1. 1. 1. 1. 1. 1. 1. 1. 1. 1.]\n",
      "Ortalama R^2 skoru (polinomal özellikler): 1.0\n",
      "Test seti üzerindeki R^2 skoru (polinomal özellikler): 1.0\n"
     ]
    }
   ],
   "source": [
    "from sklearn.preprocessing import PolynomialFeatures\n",
    "\n",
    "# PolynomialFeatures nesnesi oluşturma\n",
    "degree = 3 # İstediğiniz derecede polinomal özellikler ekleyebilirsiniz\n",
    "poly = PolynomialFeatures(degree)\n",
    "\n",
    "# Var olan scale edilmiş veriyi polinomal özelliklere dönüştürme\n",
    "X_poly = poly.fit_transform(final_df)\n",
    "\n",
    "# Train-test split (aynı veri bölme işlemi uygulanır)\n",
    "X_train_poly, X_test_poly, y_train, y_test = train_test_split(X_poly, y, test_size=0.20, random_state=50)\n",
    "\n",
    "# Lineer regresyon modelini tanımlama ve eğitme\n",
    "lr_poly = LinearRegression()\n",
    "kf_poly = KFold(n_splits=10, shuffle=True, random_state=50)\n",
    "\n",
    "# K-fold cross-validation ile R^2 skorlarını hesaplama\n",
    "r2_scores_poly = cross_val_score(lr_poly, X_poly, y, cv=kf_poly, scoring='r2')\n",
    "\n",
    "# Her bir katlama için ve ortalama R^2 skorlarını yazdırma\n",
    "print(\"Her katlama için R^2 skorları (polinomal özellikler):\", r2_scores_poly)\n",
    "print(\"Ortalama R^2 skoru (polinomal özellikler):\", np.mean(r2_scores_poly))\n",
    "\n",
    "# Modeli eğitme\n",
    "lr_poly.fit(X_train_poly, y_train)\n",
    "\n",
    "# Test seti üzerinde tahmin yapma\n",
    "y_head_poly = lr_poly.predict(X_test_poly)\n",
    "\n",
    "# R^2 skorunu hesaplama\n",
    "r2_poly = r2_score(y_test, y_head_poly)\n",
    "print(\"Test seti üzerindeki R^2 skoru (polinomal özellikler):\", r2_poly)\n"
   ]
  },
  {
   "cell_type": "markdown",
   "id": "87131a85",
   "metadata": {
    "papermill": {
     "duration": 0.030699,
     "end_time": "2024-08-09T08:38:33.700637",
     "exception": false,
     "start_time": "2024-08-09T08:38:33.669938",
     "status": "completed"
    },
    "tags": []
   },
   "source": [
    "# Can you like it if you checked my work?"
   ]
  }
 ],
 "metadata": {
  "kaggle": {
   "accelerator": "none",
   "dataSources": [
    {
     "datasetId": 2241021,
     "sourceId": 3750249,
     "sourceType": "datasetVersion"
    }
   ],
   "dockerImageVersionId": 30746,
   "isGpuEnabled": false,
   "isInternetEnabled": true,
   "language": "python",
   "sourceType": "notebook"
  },
  "kernelspec": {
   "display_name": "Python 3",
   "language": "python",
   "name": "python3"
  },
  "language_info": {
   "codemirror_mode": {
    "name": "ipython",
    "version": 3
   },
   "file_extension": ".py",
   "mimetype": "text/x-python",
   "name": "python",
   "nbconvert_exporter": "python",
   "pygments_lexer": "ipython3",
   "version": "3.10.13"
  },
  "papermill": {
   "default_parameters": {},
   "duration": 11.97706,
   "end_time": "2024-08-09T08:38:34.438689",
   "environment_variables": {},
   "exception": null,
   "input_path": "__notebook__.ipynb",
   "output_path": "__notebook__.ipynb",
   "parameters": {},
   "start_time": "2024-08-09T08:38:22.461629",
   "version": "2.5.0"
  }
 },
 "nbformat": 4,
 "nbformat_minor": 5
}
